{
 "cells": [
  {
   "cell_type": "markdown",
   "metadata": {},
   "source": [
    "IMPORTING MODULES"
   ]
  },
  {
   "cell_type": "code",
   "execution_count": 1,
   "metadata": {},
   "outputs": [],
   "source": [
    "import tensorflow as tf\n",
    "from matplotlib import pyplot as plt\n",
    "import os\n",
    "import numpy as np"
   ]
  },
  {
   "cell_type": "markdown",
   "metadata": {},
   "source": [
    "LOADING DATA"
   ]
  },
  {
   "cell_type": "code",
   "execution_count": 11,
   "metadata": {},
   "outputs": [],
   "source": [
    "BATCH_SIZE = 128\n",
    "IMAGE_SIZE = 75"
   ]
  },
  {
   "cell_type": "code",
   "execution_count": 16,
   "metadata": {},
   "outputs": [
    {
     "name": "stdout",
     "output_type": "stream",
     "text": [
      "Found 17034 files belonging to 6 classes.\n"
     ]
    }
   ],
   "source": [
    "df = tf.keras.preprocessing.image_dataset_from_directory('../dataset/seg_train', shuffle=True, image_size=(IMAGE_SIZE, IMAGE_SIZE), batch_size=BATCH_SIZE, label_mode='categorical') "
   ]
  },
  {
   "cell_type": "code",
   "execution_count": 17,
   "metadata": {},
   "outputs": [
    {
     "data": {
      "text/plain": [
       "['buildings', 'forest', 'glacier', 'mountain', 'sea', 'street']"
      ]
     },
     "execution_count": 17,
     "metadata": {},
     "output_type": "execute_result"
    }
   ],
   "source": [
    "class_names = df.class_names\n",
    "class_names"
   ]
  },
  {
   "cell_type": "markdown",
   "metadata": {},
   "source": [
    "DATA SPLIT AND TF PIPELINE"
   ]
  },
  {
   "cell_type": "code",
   "execution_count": 9,
   "metadata": {},
   "outputs": [],
   "source": [
    "def validation_partition(df, train_split=0.8, val_split=0.1, shuffle=True, shuffle_size = 100):\n",
    "    df_size = len(df)\n",
    "    if shuffle:\n",
    "        df = df.shuffle(shuffle_size, seed=42)\n",
    "    \n",
    "    train_size = int(df_size*train_split)\n",
    "    val_size = int(df_size*val_split)\n",
    "    \n",
    "    \n",
    "    train_df = df.take(train_size)\n",
    "    val_df = df.skip(train_size).take(val_size)\n",
    "    test_df = df.skip(train_size+val_size)\n",
    "    return train_df, test_df, val_df\n",
    "\n",
    "train_df, test_df, val_df = validation_partition(df, train_split=0.8, val_split=0.1, shuffle=True, shuffle_size=100)\n",
    "\n",
    "def make_pipe(DATA, RATE):\n",
    "    return DATA.cache().shuffle(RATE).prefetch(tf.data.AUTOTUNE)\n",
    "\n",
    "train_df = make_pipe(train_df, 1000)\n",
    "test_df = make_pipe(test_df, 1000)\n",
    "val_df = make_pipe(val_df, 1000)"
   ]
  },
  {
   "cell_type": "code",
   "execution_count": 10,
   "metadata": {},
   "outputs": [
    {
     "data": {
      "text/plain": [
       "(107, 13, 14)"
      ]
     },
     "execution_count": 10,
     "metadata": {},
     "output_type": "execute_result"
    }
   ],
   "source": [
    "len(train_df), len(val_df), len(test_df)"
   ]
  },
  {
   "cell_type": "markdown",
   "metadata": {},
   "source": [
    "IMAGE PREPROCESSING LAYER"
   ]
  },
  {
   "cell_type": "code",
   "execution_count": 12,
   "metadata": {},
   "outputs": [],
   "source": [
    "resize_and_rescale = tf.keras.Sequential([\n",
    "    tf.keras.layers.experimental.preprocessing.Resizing(IMAGE_SIZE, IMAGE_SIZE),\n",
    "    tf.keras.layers.experimental.preprocessing.Rescaling(1.0/255)\n",
    "])"
   ]
  },
  {
   "cell_type": "markdown",
   "metadata": {},
   "source": [
    "TRANSFER LEARNING"
   ]
  },
  {
   "cell_type": "code",
   "execution_count": 12,
   "metadata": {},
   "outputs": [
    {
     "name": "stdout",
     "output_type": "stream",
     "text": [
      "WARNING:tensorflow:`input_shape` is undefined or non-square, or `rows` is not in [96, 128, 160, 192, 224]. Weights for input shape (224, 224) will be loaded as the default.\n"
     ]
    }
   ],
   "source": [
    "vgg16 = tf.keras.applications.VGG16(weights='imagenet', include_top=False, input_shape=(32, 32, 3))\n",
    "vgg16.trainable = False\n",
    "vgg19 = tf.keras.applications.VGG19(weights='imagenet', include_top=False, input_shape=(32, 32, 3))\n",
    "vgg19.trainable = False\n",
    "resnet = tf.keras.applications.ResNet50(weights='imagenet', include_top=False, input_shape=(75, 75, 3))\n",
    "resnet.trainable = False\n",
    "inception = tf.keras.applications.InceptionV3(weights='imagenet', include_top=False, input_shape=(75, 75, 3))\n",
    "inception.trainable = False\n",
    "mobilenet = tf.keras.applications.MobileNetV2(weights='imagenet', include_top=False, input_shape=(IMAGE_SIZE, IMAGE_SIZE, 3))\n",
    "mobilenet.trainable = False\n",
    "efficientnet = tf.keras.applications.EfficientNetB0(weights='imagenet', include_top=False, input_shape=(IMAGE_SIZE, IMAGE_SIZE, 3))\n",
    "efficientnet.trainable = False\n"
   ]
  },
  {
   "cell_type": "markdown",
   "metadata": {},
   "source": [
    "MODEL BUILDING"
   ]
  },
  {
   "cell_type": "code",
   "execution_count": 13,
   "metadata": {},
   "outputs": [],
   "source": [
    "LEARNING_RATE = 0.001\n",
    "THRESHOLD = 0.5\n",
    "METRICS = [\n",
    "    'accuracy',\n",
    "    tf.keras.metrics.AUC(num_thresholds=100, thresholds=[THRESHOLD]),\n",
    "    tf.keras.metrics.Precision(thresholds=THRESHOLD),\n",
    "    tf.keras.metrics.Recall(thresholds=THRESHOLD)\n",
    "]\n",
    "METRICS_LIST = ['accuracy', 'val_accuracy', 'loss', 'val_loss']\n",
    "EPOCHS = 5"
   ]
  },
  {
   "cell_type": "code",
   "execution_count": 14,
   "metadata": {},
   "outputs": [
    {
     "name": "stderr",
     "output_type": "stream",
     "text": [
      "WARNING:absl:At this time, the v2.11+ optimizer `tf.keras.optimizers.Adam` runs slowly on M1/M2 Macs, please use the legacy Keras optimizer instead, located at `tf.keras.optimizers.legacy.Adam`.\n"
     ]
    }
   ],
   "source": [
    "def create_model(LEARNING_RATE, METRICS, TRANSFER_LAYER):\n",
    "    model = tf.keras.models.Sequential([\n",
    "        resize_and_rescale,\n",
    "        TRANSFER_LAYER,\n",
    "        tf.keras.layers.Flatten(),\n",
    "        tf.keras.layers.Dense(1024, activation='relu'),\n",
    "        tf.keras.layers.Dense(6, activation='softmax')\n",
    "    ])\n",
    "    \n",
    "    model.build(input_shape=(None, IMAGE_SIZE, IMAGE_SIZE, 3))\n",
    "    model.compile(\n",
    "        optimizer=tf.keras.optimizers.Adam(learning_rate=LEARNING_RATE),\n",
    "        loss = tf.keras.losses.CategoricalCrossentropy(from_logits=False),\n",
    "        metrics = METRICS)\n",
    "    return model\n",
    "\n",
    "my_model = create_model(LEARNING_RATE, METRICS, inception)"
   ]
  },
  {
   "cell_type": "code",
   "execution_count": 15,
   "metadata": {},
   "outputs": [
    {
     "name": "stdout",
     "output_type": "stream",
     "text": [
      "Model: \"sequential_1\"\n",
      "_________________________________________________________________\n",
      " Layer (type)                Output Shape              Param #   \n",
      "=================================================================\n",
      " sequential (Sequential)     (None, 75, 75, 3)         0         \n",
      "                                                                 \n",
      " inception_v3 (Functional)   (None, 1, 1, 2048)        21802784  \n",
      "                                                                 \n",
      " flatten (Flatten)           (None, 2048)              0         \n",
      "                                                                 \n",
      " dense (Dense)               (None, 1024)              2098176   \n",
      "                                                                 \n",
      " dense_1 (Dense)             (None, 6)                 6150      \n",
      "                                                                 \n",
      "=================================================================\n",
      "Total params: 23907110 (91.20 MB)\n",
      "Trainable params: 2104326 (8.03 MB)\n",
      "Non-trainable params: 21802784 (83.17 MB)\n",
      "_________________________________________________________________\n"
     ]
    }
   ],
   "source": [
    "my_model.summary()"
   ]
  },
  {
   "cell_type": "markdown",
   "metadata": {},
   "source": [
    "MODEL TRAINING"
   ]
  },
  {
   "cell_type": "code",
   "execution_count": 16,
   "metadata": {},
   "outputs": [
    {
     "name": "stdout",
     "output_type": "stream",
     "text": [
      "Epoch 1/5\n",
      "107/107 [==============================] - 33s 266ms/step - loss: 0.7776 - accuracy: 0.7177 - auc: 0.8032 - precision: 0.7867 - recall: 0.6411 - val_loss: 0.5147 - val_accuracy: 0.8119 - val_auc: 0.8707 - val_precision: 0.8631 - val_recall: 0.7656\n",
      "Epoch 2/5\n",
      "107/107 [==============================] - 25s 232ms/step - loss: 0.4666 - accuracy: 0.8299 - auc: 0.8813 - precision: 0.8669 - recall: 0.7868 - val_loss: 0.4042 - val_accuracy: 0.8504 - val_auc: 0.8999 - val_precision: 0.8887 - val_recall: 0.8203\n",
      "Epoch 3/5\n",
      "107/107 [==============================] - 27s 253ms/step - loss: 0.3380 - accuracy: 0.8788 - auc: 0.9161 - precision: 0.9063 - recall: 0.8498 - val_loss: 0.3286 - val_accuracy: 0.8966 - val_auc: 0.9274 - val_precision: 0.9131 - val_recall: 0.8714\n",
      "Epoch 4/5\n",
      "107/107 [==============================] - 27s 255ms/step - loss: 0.2253 - accuracy: 0.9265 - auc: 0.9497 - precision: 0.9421 - recall: 0.9106 - val_loss: 0.2482 - val_accuracy: 0.9345 - val_auc: 0.9541 - val_precision: 0.9456 - val_recall: 0.9189\n",
      "Epoch 5/5\n",
      "107/107 [==============================] - 29s 271ms/step - loss: 0.1382 - accuracy: 0.9649 - auc: 0.9747 - precision: 0.9723 - recall: 0.9548 - val_loss: 0.2096 - val_accuracy: 0.9441 - val_auc: 0.9624 - val_precision: 0.9511 - val_recall: 0.9345\n"
     ]
    }
   ],
   "source": [
    "def train_model(MODEL, TRAIN_DATA, EPOCHS, BATCH_SIZE, VAL_DATA):\n",
    "    history = MODEL.fit(TRAIN_DATA, epochs=EPOCHS, batch_size=BATCH_SIZE, validation_data=VAL_DATA)\n",
    "    return history\n",
    "\n",
    "history = train_model(MODEL=my_model, TRAIN_DATA=train_df, EPOCHS=EPOCHS, BATCH_SIZE=BATCH_SIZE, VAL_DATA=val_df)"
   ]
  },
  {
   "cell_type": "code",
   "execution_count": 17,
   "metadata": {},
   "outputs": [
    {
     "name": "stdout",
     "output_type": "stream",
     "text": [
      "14/14 [==============================] - 6s 226ms/step - loss: 0.2064 - accuracy: 0.9420 - auc: 0.9623 - precision: 0.9490 - recall: 0.9347\n"
     ]
    }
   ],
   "source": [
    "score = my_model.evaluate(test_df)"
   ]
  },
  {
   "cell_type": "code",
   "execution_count": 18,
   "metadata": {},
   "outputs": [
    {
     "data": {
      "image/png": "[encoded data removed]",
      "text/plain": [
       "<Figure size 640x480 with 1 Axes>"
      ]
     },
     "metadata": {},
     "output_type": "display_data"
    }
   ],
   "source": [
    "def plot_metrics(HISTORY, METRICS_LIST):\n",
    "    for m in METRICS_LIST:\n",
    "        plt.plot(HISTORY.epoch, HISTORY.history[m], label=m)\n",
    "    plt.legend()\n",
    "    plt.xlabel('Epoch')\n",
    "    plt.title('Training vs Validation Metrics')\n",
    "    plt.ylim()\n",
    "\n",
    "plot_metrics(history, METRICS_LIST)"
   ]
  },
  {
   "cell_type": "markdown",
   "metadata": {},
   "source": [
    "TESTING PREDICTION ON UNSEEN DATA"
   ]
  },
  {
   "cell_type": "code",
   "execution_count": 22,
   "metadata": {},
   "outputs": [
    {
     "name": "stdout",
     "output_type": "stream",
     "text": [
      "Found 1 files belonging to 1 classes.\n"
     ]
    }
   ],
   "source": [
    "pred_df = tf.keras.preprocessing.image_dataset_from_directory('/Users/alex/Desktop/projects/ImageClassifier/dataset/single_image', label_mode=None, image_size=(IMAGE_SIZE, IMAGE_SIZE), batch_size=BATCH_SIZE)"
   ]
  },
  {
   "cell_type": "code",
   "execution_count": 23,
   "metadata": {},
   "outputs": [],
   "source": [
    "def image_predict(model, class_names, prediction_df):\n",
    "    for image_batch in prediction_df.take(1):\n",
    "        img = image_batch[0].numpy().astype('uint8') #astype('uint8') - for showing the image\n",
    "        plt.imshow(img)\n",
    "        img = resize_and_rescale(img)\n",
    "        batched_pred = model.predict(image_batch)\n",
    "        result = class_names[np.argmax(batched_pred[0])]\n",
    "        confidence = round(100*(np.max(batched_pred[0])), 2)\n",
    "    return print('Model prediction: ',result, ' Confidence:', f\"{confidence}%\")"
   ]
  },
  {
   "cell_type": "code",
   "execution_count": 24,
   "metadata": {},
   "outputs": [
    {
     "name": "stdout",
     "output_type": "stream",
     "text": [
      "1/1 [==============================] - 0s 20ms/step\n",
      "Model prediction:  sea  Confidence: 93.48%\n"
     ]
    },
    {
     "data": {
      "image/png": "[encoded data removed]",
      "text/plain": [
       "<Figure size 640x480 with 1 Axes>"
      ]
     },
     "metadata": {},
     "output_type": "display_data"
    }
   ],
   "source": [
    "image_predict(my_model, class_names, pred_df)"
   ]
  },
  {
   "cell_type": "markdown",
   "metadata": {},
   "source": [
    "MODEL SAVING"
   ]
  },
  {
   "cell_type": "code",
   "execution_count": 20,
   "metadata": {},
   "outputs": [],
   "source": [
    "def save_model(FOLDER_PATH, MODEL):\n",
    "    def find_index(FOLDER_PATH):\n",
    "        index = 0\n",
    "        while os.path.exists(os.path.join(FOLDER_PATH,f'model_{index}.keras')):\n",
    "            index += 1\n",
    "        return index\n",
    "    index = find_index(FOLDER_PATH)\n",
    "    MODEL.save(os.path.join(FOLDER_PATH, f'model_{index}.keras'))\n",
    "\n",
    "save_model('../models/',my_model)"
   ]
  }
 ],
 "metadata": {
  "kernelspec": {
   "display_name": "Python 3",
   "language": "python",
   "name": "python3"
  },
  "language_info": {
   "codemirror_mode": {
    "name": "ipython",
    "version": 3
   },
   "file_extension": ".py",
   "mimetype": "text/x-python",
   "name": "python",
   "nbconvert_exporter": "python",
   "pygments_lexer": "ipython3",
   "version": "3.11.6"
  }
 },
 "nbformat": 4,
 "nbformat_minor": 2
}
